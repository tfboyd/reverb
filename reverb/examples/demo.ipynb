{
  "cells": [
    {
      "cell_type": "markdown",
      "metadata": {
        "colab_type": "text",
        "id": "5gyFPhPWJev9"
      },
      "source": [
        "##### Copyright 2019 DeepMind Technologies Limited."
      ]
    },
    {
      "cell_type": "code",
      "execution_count": 0,
      "metadata": {
        "cellView": "form",
        "colab": {},
        "colab_type": "code",
        "id": "LPGlYwKdJP3o"
      },
      "outputs": [],
      "source": [
        "#@title Licensed under the Apache License, Version 2.0 (the \"License\");\n",
        "# you may not use this file except in compliance with the License.\n",
        "# You may obtain a copy of the License at\n",
        "#\n",
        "# https://www.apache.org/licenses/LICENSE-2.0\n",
        "#\n",
        "# Unless required by applicable law or agreed to in writing, software\n",
        "# distributed under the License is distributed on an \"AS IS\" BASIS,\n",
        "# WITHOUT WARRANTIES OR CONDITIONS OF ANY KIND, either express or implied.\n",
        "# See the License for the specific language governing permissions and\n",
        "# limitations under the License."
      ]
    },
    {
      "cell_type": "markdown",
      "metadata": {
        "colab_type": "text",
        "id": "czUOoEyaLw4_"
      },
      "source": [
        "# Environments\n",
        "\n",
        "\u003ctable class=\"tfo-notebook-buttons\" align=\"left\"\u003e\n",
        "  \u003ctd\u003e\n",
        "    \u003ca target=\"_blank\" href=\"https://colab.research.google.com/github/deepmind/reverb/blob/master/reverb/examples/demo.ipynb\"\u003e\n",
        "    \u003cimg src=\"https://www.tensorflow.org/images/colab_logo_32px.png\" /\u003e\n",
        "    Run in Google Colab\u003c/a\u003e\n",
        "  \u003c/td\u003e\n",
        "  \u003ctd\u003e\n",
        "    \u003ca target=\"_blank\" href=\"https://github.com/deepmind/reverb/blob/master/reverb/examples/demo.ipynb\"\u003e\n",
        "    \u003cimg src=\"https://www.tensorflow.org/images/GitHub-Mark-32px.png\" /\u003e\n",
        "    View source on GitHub\u003c/a\u003e\n",
        "  \u003c/td\u003e\n",
        "\u003c/table\u003e"
      ]
    },
    {
      "cell_type": "markdown",
      "metadata": {
        "colab_type": "text",
        "id": "ISYJFHZ1Lh8P"
      },
      "source": [
        "# Introduction\n",
        "\n",
        "This colab is a demonstration of how to use Reverb through examples."
      ]
    },
    {
      "cell_type": "markdown",
      "metadata": {
        "colab_type": "text",
        "id": "vQA3Gy4cKX05"
      },
      "source": [
        "# Setup\n",
        "\n",
        "Installs the nightly build of Reverb (dm-reverb-nightly) and TensorFlow nightly (tf-nightly) to match."
      ]
    },
    {
      "cell_type": "code",
      "execution_count": 0,
      "metadata": {
        "colab": {
          "test": {
            "skip": true
          }
        },
        "colab_type": "code",
        "id": "GrkMkCjA7_tK"
      },
      "outputs": [],
      "source": [
        "!pip install tf-nightly\n",
        "!pip install dm-tree\n",
        "!pip install dm-reverb-nightly"
      ]
    },
    {
      "cell_type": "code",
      "execution_count": 0,
      "metadata": {
        "colab": {
          "test": {
            "output": "ignore",
            "timeout": 300
          }
        },
        "colab_type": "code",
        "id": "NSzJMNvXuPi9"
      },
      "outputs": [],
      "source": [
        "import reverb\n",
        "import tensorflow as tf"
      ]
    },
    {
      "cell_type": "markdown",
      "metadata": {
        "colab_type": "text",
        "id": "zD_GkERHMf-E"
      },
      "source": [
        "The code below defines a dummy RL environment for use in the examples below."
      ]
    },
    {
      "cell_type": "code",
      "execution_count": 0,
      "metadata": {
        "colab": {
          "test": {
            "output": "ignore",
            "timeout": 300
          }
        },
        "colab_type": "code",
        "id": "uEYL3Gn3MLbS"
      },
      "outputs": [],
      "source": [
        "observations_shape = tf.TensorShape([10, 10])\n",
        "actions_shape = tf.TensorShape([2])\n",
        "\n",
        "def agent_step(unused_timestep) -\u003e tf.Tensor:\n",
        "  return tf.cast(tf.random.uniform(actions_shape) \u003e .5, tf.float32)\n",
        "\n",
        "def environment_step(unused_action) -\u003e tf.Tensor:\n",
        "  return tf.cast(tf.random.uniform(observations_shape, maxval=256), tf.uint8)"
      ]
    },
    {
      "cell_type": "markdown",
      "metadata": {
        "colab_type": "text",
        "id": "cESH6nbOCRjS"
      },
      "source": [
        "# Creating a Server and Client"
      ]
    },
    {
      "cell_type": "code",
      "execution_count": 0,
      "metadata": {
        "colab": {
          "test": {
            "output": "ignore",
            "timeout": 300
          }
        },
        "colab_type": "code",
        "id": "Zm5uTw1fvknY"
      },
      "outputs": [],
      "source": [
        "# Initialize the reverb server.\n",
        "simple_server = reverb.Server(\n",
        "    tables=[\n",
        "        reverb.Table(\n",
        "            name='my_table',\n",
        "            sampler=reverb.selectors.Prioritized(priority_exponent=0.8),\n",
        "            remover=reverb.selectors.Fifo(),\n",
        "            max_size=int(1e6),\n",
        "            # Sets Rate Limiter to a low number for the examples.\n",
        "            # Read the Rate Limiters section for usage info.\n",
        "            rate_limiter=reverb.rate_limiters.MinSize(2)),\n",
        "    ],\n",
        "    # Sets the port to None to make the server pick one automatically.\n",
        "    port=None)\n",
        "\n",
        "# Initializes the reverb client on the same port as the server.\n",
        "client = reverb.Client(f'localhost:{simple_server.port}')"
      ]
    },
    {
      "cell_type": "markdown",
      "metadata": {
        "colab_type": "text",
        "id": "fFyKp_toviQK"
      },
      "source": [
        "For details on customizing the sampler, remover, and rate limiter, see below."
      ]
    },
    {
      "cell_type": "markdown",
      "metadata": {
        "colab_type": "text",
        "id": "5xERcgn8v0Li"
      },
      "source": [
        "# Example 1: Overlapping Trajectories\n"
      ]
    },
    {
      "cell_type": "markdown",
      "metadata": {
        "colab_type": "text",
        "id": "Lcs55Fnk3SBD"
      },
      "source": [
        "## Inserting Overlapping Trajectories"
      ]
    },
    {
      "cell_type": "code",
      "execution_count": 0,
      "metadata": {
        "colab": {
          "test": {
            "output": "ignore",
            "timeout": 300
          }
        },
        "colab_type": "code",
        "id": "3xs-tSRWcI6x"
      },
      "outputs": [],
      "source": [
        "# Dynamically adds trajectories of length 3 to 'my_table' using a client writer.\n",
        "\n",
        "with client.writer(max_sequence_length=3) as writer:\n",
        "  timestep = environment_step(None)\n",
        "  for step in range(4):\n",
        "    action = agent_step(timestep)\n",
        "    writer.append((timestep, action))\n",
        "    timestep = environment_step(action)\n",
        "    if step \u003e= 2:\n",
        "      # In this example, the item consists of the 3 most recent timesteps that\n",
        "      # were added to the writer and has a priority of 1.5.\n",
        "      writer.create_item(\n",
        "          table='my_table', num_timesteps=3, priority=1.5)"
      ]
    },
    {
      "cell_type": "markdown",
      "metadata": {
        "colab_type": "text",
        "id": "iohnQl20x3bz"
      },
      "source": [
        "The animation illustrates the state of the server at each step in the\n",
        "above code block. Although each item is being set to have the same\n",
        "priority value of 1.5, items do not need to have the same priority values.\n",
        "In real world scenarios, items would have differing and\n",
        "dynamically-calculated priority values.\n",
        "\n"
      ]
    },
    {
      "cell_type": "markdown",
      "metadata": {
        "colab_type": "text",
        "id": "hK90myIgxuGL"
      },
      "source": [
        "\u003cimg src=\"https://github.com/deepmind/reverb/blob/master/docs/animations/diagram1.svg\" /\u003e"
      ]
    },
    {
      "cell_type": "markdown",
      "metadata": {
        "colab_type": "text",
        "id": "4z0zD24bv5Ju"
      },
      "source": [
        "## Sampling Overlapping Trajectories in TensorFlow"
      ]
    },
    {
      "cell_type": "code",
      "execution_count": 0,
      "metadata": {
        "colab": {
          "test": {
            "output": "ignore",
            "timeout": 300
          }
        },
        "colab_type": "code",
        "id": "SQFSZJkyroFX"
      },
      "outputs": [],
      "source": [
        "# Creates a TensorFlow client.\n",
        "tf_client = reverb.TFClient(f'localhost:{simple_server.port}')\n",
        "# Sets the sequence length to match the length of the prioritized items\n",
        "# inserted into the table. To match the example above, we use 3.\n",
        "sequence_length = 3\n",
        "\n",
        "# Dataset samples sequences of length 3 and streams the timesteps one by one.\n",
        "# This allows streaming large sequences that do not necessarily fit in memory.\n",
        "dataset = tf_client.dataset(\n",
        "  table='my_table',\n",
        "  dtypes=(tf.uint8, tf.float32),\n",
        "  shapes=(observations_shape, actions_shape))\n",
        "\n",
        "# Batches the data according to the correct sequence length.\n",
        "# Shape of items is now [3, 10, 10].\n",
        "dataset = dataset.batch(sequence_length)"
      ]
    },
    {
      "cell_type": "code",
      "execution_count": 0,
      "metadata": {
        "colab": {
          "test": {
            "output": "ignore",
            "timeout": 300
          }
        },
        "colab_type": "code",
        "id": "UaICLHYqC3g7"
      },
      "outputs": [],
      "source": [
        "# Batches 2 sequences together.\n",
        "# Shapes of items is now [2, 3, 10, 10].\n",
        "dataset = dataset.batch(2)\n",
        "\n",
        "for sample in dataset.take(1):\n",
        "  # Results in the following format.\n",
        "  print(sample.info.key)          # ([2, 3], uint64)\n",
        "  print(sample.info.probability)  # ([2, 3], float64)\n",
        "  \n",
        "  observation, action = sample.data\n",
        "  print(observation)              # ([2, 3, 10, 10], int8)\n",
        "  print(action)                   # ([2, 3, 2], float32)"
      ]
    },
    {
      "cell_type": "markdown",
      "metadata": {
        "colab_type": "text",
        "id": "_Xt0Kec6CU6F"
      },
      "source": [
        "# Example 2: Complete Episodes"
      ]
    },
    {
      "cell_type": "markdown",
      "metadata": {
        "colab_type": "text",
        "id": "1S1aSGmJ35ql"
      },
      "source": [
        "Create a new server for this example to keep the elements of the priority table consistent."
      ]
    },
    {
      "cell_type": "code",
      "execution_count": 0,
      "metadata": {
        "colab": {
          "test": {
            "output": "ignore",
            "timeout": 300
          }
        },
        "colab_type": "code",
        "id": "_WsESIry3xgd"
      },
      "outputs": [],
      "source": [
        "complete_episode_server = reverb.Server(\n",
        "    tables=[\n",
        "        reverb.Table(\n",
        "            name='my_table',\n",
        "            sampler=reverb.selectors.Prioritized(priority_exponent=0.8),\n",
        "            remover=reverb.selectors.Fifo(),\n",
        "            max_size=int(1e6),\n",
        "            # Sets Rate Limiter to a low number for the examples.\n",
        "            # Read the Rate Limiters section for usage info.\n",
        "            rate_limiter=reverb.rate_limiters.MinSize(2)),\n",
        "    ],\n",
        "    # Sets the port to None to make the server pick one automatically.\n",
        "    port=None)\n",
        "\n",
        "# Initializes the reverb client on the same port.\n",
        "client = reverb.Client(f'localhost:{complete_episode_server.port}')"
      ]
    },
    {
      "cell_type": "markdown",
      "metadata": {
        "colab_type": "text",
        "id": "KBLN137F3x3H"
      },
      "source": [
        "## Inserting Complete Episodes"
      ]
    },
    {
      "cell_type": "code",
      "execution_count": 0,
      "metadata": {
        "colab": {
          "test": {
            "output": "ignore",
            "timeout": 300
          }
        },
        "colab_type": "code",
        "id": "kEstKtvu-0hi"
      },
      "outputs": [],
      "source": [
        "# Adds episodes as a single entry to 'my_table' using the insert function.\n",
        "episode_length = 100\n",
        "\n",
        "num_episodes = 200\n",
        "\n",
        "def unroll_full_episode():\n",
        "  observations, actions = [environment_step(None)], []\n",
        "  for _ in range(1, episode_length):\n",
        "    actions.append(agent_step(observations[-1]))\n",
        "    observations.append(environment_step(actions[-1]))\n",
        "  return tf.stack(observations), tf.stack(actions)\n",
        "\n",
        "for _ in range(num_episodes):\n",
        "  # Uses client.insert since this is a full trajectories and not individual\n",
        "  # timesteps.\n",
        "  client.insert(unroll_full_episode(), {'my_table': 1.5})"
      ]
    },
    {
      "cell_type": "markdown",
      "metadata": {
        "colab_type": "text",
        "id": "0IRuThqjwg8G"
      },
      "source": [
        "## Sampling Complete Episodes in TensorFlow"
      ]
    },
    {
      "cell_type": "code",
      "execution_count": 0,
      "metadata": {
        "colab": {
          "test": {
            "output": "ignore",
            "timeout": 300
          }
        },
        "colab_type": "code",
        "id": "y4_gzMHN-yc5"
      },
      "outputs": [],
      "source": [
        "# Creates a TensorFlow client.\n",
        "tf_client = reverb.TFClient(f'localhost:{complete_episode_server.port}')\n",
        "\n",
        "# Each sample is an entire episode.\n",
        "# Adjusts the expected shapes to account for the whole episode length.\n",
        "dataset = tf_client.dataset(\n",
        "  table='my_table',\n",
        "  dtypes=(tf.int8, tf.float32),\n",
        "  shapes=([episode_length] + observations_shape, \n",
        "          [episode_length - 1] + actions_shape))\n",
        "\n",
        "# Batches 128 episodes together.\n",
        "# Each item is an episode of the format (observations, actions) as above.\n",
        "# Shape of items is now ([128, 100, 10, 10], [128, 100, 2]).\n",
        "dataset = dataset.batch(128)\n",
        "\n",
        "# Sample has type reverb.ReplaySample.\n",
        "for sample in dataset.take(1):\n",
        "  # Results in the following format.\n",
        "  print(sample.info.key)          # ([128], uint64)\n",
        "  print(sample.info.probability)  # ([128], float64)\n",
        "  \n",
        "  observation, action = sample.data\n",
        "  print(observation)              # ([128, 100, 10, 10], int8)\n",
        "  print(action)                   # ([128, 100, 2], float32)"
      ]
    },
    {
      "cell_type": "markdown",
      "metadata": {
        "colab_type": "text",
        "id": "UD9u5-i6A9ub"
      },
      "source": [
        "# Example 3: Multiple Priority Tables"
      ]
    },
    {
      "cell_type": "markdown",
      "metadata": {
        "colab_type": "text",
        "id": "54VsdWyg4VGi"
      },
      "source": [
        "Create a server that maintains multiple priority tables."
      ]
    },
    {
      "cell_type": "code",
      "execution_count": 0,
      "metadata": {
        "colab": {
          "test": {
            "output": "ignore",
            "timeout": 300
          }
        },
        "colab_type": "code",
        "id": "Co0i6GCAG4Xc"
      },
      "outputs": [],
      "source": [
        "multitable_server = reverb.Server(\n",
        "    tables=[\n",
        "        reverb.Table(\n",
        "            name='my_table_a',\n",
        "            sampler=reverb.selectors.Prioritized(priority_exponent=0.8),\n",
        "            remover=reverb.selectors.Fifo(),\n",
        "            max_size=int(1e6),\n",
        "            # Sets Rate Limiter to a low number for the examples.\n",
        "            # Read the Rate Limiters section for usage info.\n",
        "            rate_limiter=reverb.rate_limiters.MinSize(1)),\n",
        "        reverb.Table(\n",
        "            name='my_table_b',\n",
        "            sampler=reverb.selectors.Prioritized(priority_exponent=0.8),\n",
        "            remover=reverb.selectors.Fifo(),\n",
        "            max_size=int(1e6),\n",
        "            # Sets Rate Limiter to a low number for the examples.\n",
        "            # Read the Rate Limiters section for usage info.\n",
        "            rate_limiter=reverb.rate_limiters.MinSize(1)),\n",
        "    ],\n",
        "    port=None)\n",
        "\n",
        "client = reverb.Client('localhost:{}'.format(multitable_server.port))"
      ]
    },
    {
      "cell_type": "markdown",
      "metadata": {
        "colab_type": "text",
        "id": "AaufIpBZxHv1"
      },
      "source": [
        "## Inserting Sequences of Varying Length into Multiple Priority Tables\n"
      ]
    },
    {
      "cell_type": "code",
      "execution_count": 0,
      "metadata": {
        "colab": {
          "test": {
            "output": "ignore",
            "timeout": 300
          }
        },
        "colab_type": "code",
        "id": "YoSLa6QvxGxq"
      },
      "outputs": [],
      "source": [
        "with client.writer(max_sequence_length=3) as writer:\n",
        "  timestep = environment_step(None)\n",
        "  for step in range(4):\n",
        "    writer.append(timestep)\n",
        "    action = agent_step(timestep)\n",
        "    timestep = environment_step(action)\n",
        "\n",
        "    if step \u003e= 1:\n",
        "      writer.create_item(\n",
        "          table='my_table_b', num_timesteps=2, priority=4-step)\n",
        "    if step \u003e= 2:\n",
        "      writer.create_item(\n",
        "          table='my_table_a', num_timesteps=3, priority=4-step)"
      ]
    },
    {
      "cell_type": "markdown",
      "metadata": {
        "colab_type": "text",
        "id": "b8ffbswoxYqE"
      },
      "source": [
        "\u003cimg src=\"https://raw.githubusercontent.com/deepmind/reverb/master/docs/animations/diagram1.svg\" /\u003e"
      ]
    },
    {
      "cell_type": "markdown",
      "metadata": {
        "colab_type": "text",
        "id": "oWOrIlHKxS0N"
      },
      "source": [
        "The above diagram shows the state of the server after executing the overlapping trajectories code.\n",
        "\n",
        "To insert full trajectories into multiple tables use `client.insert` as illustrated below:\n",
        "\n",
        "```python\n",
        "client.insert(episode, {'my_table_one': 1.5, 'my_table_two': 2.5})\n",
        "```"
      ]
    },
    {
      "cell_type": "markdown",
      "metadata": {
        "colab_type": "text",
        "id": "2aQn_QAsIgmZ"
      },
      "source": [
        "# Example 4: Samplers and Removers\n",
        "\n"
      ]
    },
    {
      "cell_type": "markdown",
      "metadata": {
        "colab_type": "text",
        "id": "oh3pY0C6AuNA"
      },
      "source": [
        "##  Creating a Server with a Prioritized Sampler and a FIFO Remover"
      ]
    },
    {
      "cell_type": "code",
      "execution_count": 0,
      "metadata": {
        "colab": {
          "test": {
            "output": "ignore",
            "timeout": 300
          }
        },
        "colab_type": "code",
        "id": "ifjWSrIiIlGK"
      },
      "outputs": [],
      "source": [
        "reverb.Server(\n",
        "    tables=[\n",
        "        reverb.Table(\n",
        "            name='my_table',\n",
        "            sampler=reverb.selectors.Prioritized(priority_exponent=0.8),\n",
        "            remover=reverb.selectors.Fifo(),\n",
        "            max_size=int(1e6),\n",
        "            rate_limiter=reverb.rate_limiters.MinSize(100)),\n",
        "    ],\n",
        "    port=None)"
      ]
    },
    {
      "cell_type": "markdown",
      "metadata": {
        "colab_type": "text",
        "id": "KAJf-1UJAzgR"
      },
      "source": [
        "## Creating a Server with a MaxHeap Sampler and a MinHeap Remover"
      ]
    },
    {
      "cell_type": "markdown",
      "metadata": {
        "colab_type": "text",
        "id": "y9oldFAdP0j6"
      },
      "source": [
        "Setting `max_times_sampled=1` causes each item to be removed after it is\n",
        "sampled once. The end result is a priority table that essentially functions\n",
        "as a max priority queue.\n"
      ]
    },
    {
      "cell_type": "code",
      "execution_count": 0,
      "metadata": {
        "colab": {
          "test": {
            "output": "ignore",
            "timeout": 300
          }
        },
        "colab_type": "code",
        "id": "ZYkeRJ3mAyy4"
      },
      "outputs": [],
      "source": [
        "max_size = 1000\n",
        "reverb.Server(\n",
        "    tables=[\n",
        "        reverb.Table(\n",
        "            name='my_priority_queue',\n",
        "            sampler=reverb.selectors.MaxHeap(),\n",
        "            remover=reverb.selectors.MinHeap(),\n",
        "            max_size=max_size,\n",
        "            rate_limiter=reverb.rate_limiters.MinSize(int(0.95 * max_size)),\n",
        "            max_times_sampled=1,\n",
        "        )\n",
        "    ],\n",
        "    port=None)"
      ]
    },
    {
      "cell_type": "markdown",
      "metadata": {
        "colab_type": "text",
        "id": "lRLLMHR2A6oN"
      },
      "source": [
        "## Creating a Server with One Queue and One Circular Buffer"
      ]
    },
    {
      "cell_type": "markdown",
      "metadata": {
        "colab_type": "text",
        "id": "EXma2uTiPkOy"
      },
      "source": [
        "Behavior of canonical data structures such as\n",
        "[circular buffer](https://en.wikipedia.org/wiki/Circular_buffer) or a max\n",
        "[priority queue](https://en.wikipedia.org/wiki/Priority_queue) can\n",
        "be implemented in Reverb by modifying the `sampler` and `remover`\n",
        "or by using the `PriorityTable` queue initializer."
      ]
    },
    {
      "cell_type": "code",
      "execution_count": 0,
      "metadata": {
        "colab": {
          "test": {
            "output": "ignore",
            "timeout": 300
          }
        },
        "colab_type": "code",
        "id": "mH3MmDJSIoog"
      },
      "outputs": [],
      "source": [
        "reverb.Server(\n",
        "    tables=[\n",
        "        reverb.Table.queue(name='my_queue', max_size=10000),\n",
        "        reverb.Table(\n",
        "            name='my_circular_buffer',\n",
        "            sampler=reverb.selectors.Fifo(),\n",
        "            remover=reverb.selectors.Fifo(),\n",
        "            max_size=10000,\n",
        "            max_times_sampled=1,\n",
        "            rate_limiter=reverb.rate_limiters.MinSize(1)),\n",
        "    ],\n",
        "    port=None)"
      ]
    },
    {
      "cell_type": "markdown",
      "metadata": {
        "colab_type": "text",
        "id": "9NkojFD_BURQ"
      },
      "source": [
        "# Example 5: Rate Limiters\n"
      ]
    },
    {
      "cell_type": "markdown",
      "metadata": {
        "colab_type": "text",
        "id": "VYGYIpld5Fmu"
      },
      "source": [
        "## Creating a Server with a SampleToInsertRatio Rate Limiter"
      ]
    },
    {
      "cell_type": "code",
      "execution_count": 0,
      "metadata": {
        "colab": {
          "test": {
            "output": "ignore",
            "timeout": 300
          }
        },
        "colab_type": "code",
        "id": "LwpVpjfxBWRA"
      },
      "outputs": [],
      "source": [
        "reverb.Server(\n",
        "    tables=[\n",
        "        reverb.Table(\n",
        "            name='my_table',\n",
        "            sampler=reverb.selectors.Prioritized(priority_exponent=0.8),\n",
        "            remover=reverb.selectors.Fifo(),\n",
        "            max_size=int(1e6),\n",
        "            rate_limiter=reverb.rate_limiters.SampleToInsertRatio(\n",
        "                samples_per_insert=3.0, min_size_to_sample=3,\n",
        "                error_buffer=3.0)),\n",
        "    ],\n",
        "    port=None)"
      ]
    },
    {
      "cell_type": "markdown",
      "metadata": {
        "colab_type": "text",
        "id": "p98u_jg3CAxG"
      },
      "source": [
        "\n",
        "This example is intended to be used in a distributed or multi-threaded\n",
        "enviroment where insertion blocking will be unblocked by sample calls from\n",
        "an independent thread. If the system is single threaded, the blocked\n",
        "insertion call will cause a deadlock.\n"
      ]
    }
  ],
  "metadata": {
    "colab": {
      "collapsed_sections": [],
      "name": "demo.ipynb",
      "private_outputs": true,
      "provenance": [],
      "toc_visible": true
    },
    "kernelspec": {
      "display_name": "Python 3",
      "name": "python3"
    }
  },
  "nbformat": 4,
  "nbformat_minor": 0
}
